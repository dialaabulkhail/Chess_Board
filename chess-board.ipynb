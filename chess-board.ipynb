{
 "cells": [
  {
   "cell_type": "code",
   "execution_count": 1,
   "id": "b51a245c",
   "metadata": {
    "execution": {
     "iopub.execute_input": "2022-03-29T08:28:07.812914Z",
     "iopub.status.busy": "2022-03-29T08:28:07.811753Z",
     "iopub.status.idle": "2022-03-29T08:28:07.819997Z",
     "shell.execute_reply": "2022-03-29T08:28:07.820547Z",
     "shell.execute_reply.started": "2022-03-29T08:27:06.700697Z"
    },
    "papermill": {
     "duration": 0.017813,
     "end_time": "2022-03-29T08:28:07.820841",
     "exception": false,
     "start_time": "2022-03-29T08:28:07.803028",
     "status": "completed"
    },
    "tags": []
   },
   "outputs": [],
   "source": [
    "import numpy as np\n",
    "import matplotlib.pyplot as plt "
   ]
  },
  {
   "cell_type": "code",
   "execution_count": 2,
   "id": "2e0d039b",
   "metadata": {
    "execution": {
     "iopub.execute_input": "2022-03-29T08:28:07.833031Z",
     "iopub.status.busy": "2022-03-29T08:28:07.832383Z",
     "iopub.status.idle": "2022-03-29T08:28:07.841460Z",
     "shell.execute_reply": "2022-03-29T08:28:07.842043Z",
     "shell.execute_reply.started": "2022-03-29T08:27:06.748807Z"
    },
    "papermill": {
     "duration": 0.01643,
     "end_time": "2022-03-29T08:28:07.842240",
     "exception": false,
     "start_time": "2022-03-29T08:28:07.825810",
     "status": "completed"
    },
    "tags": []
   },
   "outputs": [],
   "source": [
    "class ChessBoard:\n",
    "    def __init__(self):\n",
    "        self.grid = np.zeros((8, 8, 3))\n",
    "        self.grid[::2, ::2] = (1,1,1)\n",
    "        self.grid[1::2, 1::2] = (1,1,1)\n",
    "       \n",
    "    \n",
    "    \n",
    "    def add_red(self, row, col):\n",
    "        self.grid[row][col] = (1,.2,0)\n",
    "        self.red = [row, col]\n",
    "        \n",
    "        \n",
    "    \n",
    "    def add_blue(self, row, col):\n",
    "        self.grid[row][col] = (0, 1, 1)\n",
    "        self.blue = [row, col]\n",
    "        \n",
    "        \n",
    "    \n",
    "    def render(self):\n",
    "        plt.imshow(self.grid)\n",
    "        \n",
    "        \n",
    "    def is_under_attack(self, blue, red):\n",
    "        if self.red[0] == self.blue[0]:   # handles horizontal attack (row)\n",
    "            return True\n",
    "        elif self.red[1] == self.blue[1]:   # handles vertical attack (column)\n",
    "            return True\n",
    "        elif abs((self.red[0] - self.blue[0]) / (self.red[1] - self.blue[1])) == 1:  # handles diagonal attack\n",
    "            return True\n",
    "        return False  ## handles not under attack \n"
   ]
  },
  {
   "cell_type": "code",
   "execution_count": 3,
   "id": "c8999bd2",
   "metadata": {
    "execution": {
     "iopub.execute_input": "2022-03-29T08:28:07.853625Z",
     "iopub.status.busy": "2022-03-29T08:28:07.852999Z",
     "iopub.status.idle": "2022-03-29T08:28:08.096067Z",
     "shell.execute_reply": "2022-03-29T08:28:08.096708Z",
     "shell.execute_reply.started": "2022-03-29T08:27:06.819668Z"
    },
    "papermill": {
     "duration": 0.250209,
     "end_time": "2022-03-29T08:28:08.096876",
     "exception": false,
     "start_time": "2022-03-29T08:28:07.846667",
     "status": "completed"
    },
    "tags": []
   },
   "outputs": [
    {
     "data": {
      "text/plain": [
       "True"
      ]
     },
     "execution_count": 3,
     "metadata": {},
     "output_type": "execute_result"
    },
    {
     "data": {
      "image/png": "[encoded data removed]",
      "text/plain": [
       "<Figure size 432x288 with 1 Axes>"
      ]
     },
     "metadata": {
      "needs_background": "light"
     },
     "output_type": "display_data"
    }
   ],
   "source": [
    "\n",
    "ll = ChessBoard()\n",
    "ll.add_red(5,4)\n",
    "ll.add_blue(4,3)\n",
    "ll.render()\n",
    "\n",
    "#horizontally\n",
    "red = ll.add_red(5,4)\n",
    "blue = ll.add_blue(5,7)\n",
    "ll.is_under_attack(red, blue)\n",
    "\n",
    "#Vertically\n",
    "red2 = ll.add_red(4,2)\n",
    "blue2 = ll.add_blue(6,2)\n",
    "ll.is_under_attack(red2, blue2)\n",
    "\n",
    "#diagonally \n",
    "red3 = ll.add_red(2,5)\n",
    "blue3 = ll.add_blue(4,3)\n",
    "ll.is_under_attack(red3, blue3)\n"
   ]
  }
 ],
 "metadata": {
  "kernelspec": {
   "display_name": "Python 3",
   "language": "python",
   "name": "python3"
  },
  "language_info": {
   "codemirror_mode": {
    "name": "ipython",
    "version": 3
   },
   "file_extension": ".py",
   "mimetype": "text/x-python",
   "name": "python",
   "nbconvert_exporter": "python",
   "pygments_lexer": "ipython3",
   "version": "3.8.10"
  },
  "papermill": {
   "default_parameters": {},
   "duration": 9.797219,
   "end_time": "2022-03-29T08:28:08.713490",
   "environment_variables": {},
   "exception": null,
   "input_path": "__notebook__.ipynb",
   "output_path": "__notebook__.ipynb",
   "parameters": {},
   "start_time": "2022-03-29T08:27:58.916271",
   "version": "2.3.3"
  }
 },
 "nbformat": 4,
 "nbformat_minor": 5
}
